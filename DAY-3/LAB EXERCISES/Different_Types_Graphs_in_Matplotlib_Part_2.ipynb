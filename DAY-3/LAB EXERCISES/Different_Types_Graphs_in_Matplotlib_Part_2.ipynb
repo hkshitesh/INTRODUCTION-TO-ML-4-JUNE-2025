{
  "nbformat": 4,
  "nbformat_minor": 0,
  "metadata": {
    "colab": {
      "provenance": [],
      "toc_visible": true
    },
    "kernelspec": {
      "name": "python3",
      "display_name": "Python 3"
    },
    "language_info": {
      "name": "python"
    }
  },
  "cells": [
    {
      "cell_type": "code",
      "execution_count": null,
      "metadata": {
        "id": "TMJjXVVQhbjT"
      },
      "outputs": [],
      "source": [
        "  import seaborn as sns\n",
        "import numpy as np\n",
        "import matplotlib.pyplot as plt"
      ]
    },
    {
      "cell_type": "markdown",
      "source": [
        "**7. Heatmap (with Seaborn)**\n",
        "\n",
        "---\n",
        "\n"
      ],
      "metadata": {
        "id": "rHGaR8q0kEFR"
      }
    },
    {
      "cell_type": "code",
      "source": [
        "# Sample data\n",
        "data = np.random.rand(10, 10)"
      ],
      "metadata": {
        "id": "4BbxiN2CiAbA"
      },
      "execution_count": null,
      "outputs": []
    },
    {
      "cell_type": "code",
      "source": [
        "data"
      ],
      "metadata": {
        "id": "EnEf0S4OjINY"
      },
      "execution_count": null,
      "outputs": []
    },
    {
      "cell_type": "code",
      "source": [
        "# Create heatmap\n",
        "sns.heatmap(data, annot=True, cmap='coolwarm')\n",
        "plt.title(\"Heatmap\")\n",
        "plt.show()"
      ],
      "metadata": {
        "id": "gkaE37objNhP"
      },
      "execution_count": null,
      "outputs": []
    },
    {
      "cell_type": "markdown",
      "source": [
        "**8. Violin Plot (with Seaborn)**\n",
        "\n",
        "---\n",
        "\n"
      ],
      "metadata": {
        "id": "goPnD5NEkLcP"
      }
    },
    {
      "cell_type": "code",
      "source": [
        "# Sample data\n",
        "data = sns.load_dataset(\"iris\")"
      ],
      "metadata": {
        "id": "rQ8o3auDkPiY"
      },
      "execution_count": null,
      "outputs": []
    },
    {
      "cell_type": "code",
      "source": [
        "# Create violin plot\n",
        "sns.violinplot(x=\"species\", y=\"sepal_length\", data=data)\n",
        "plt.title(\"Violin Plot\")\n",
        "plt.show()"
      ],
      "metadata": {
        "id": "rnXwpxXrkW2P"
      },
      "execution_count": null,
      "outputs": []
    },
    {
      "cell_type": "markdown",
      "source": [
        "**9. Pair Plot (with Seaborn)**\n",
        "\n",
        "---\n",
        "\n"
      ],
      "metadata": {
        "id": "erHI3zjNlMPu"
      }
    },
    {
      "cell_type": "code",
      "source": [
        "# Sample data\n",
        "data = sns.load_dataset(\"iris\")"
      ],
      "metadata": {
        "id": "DBZIdWDOlOdA"
      },
      "execution_count": null,
      "outputs": []
    },
    {
      "cell_type": "code",
      "source": [
        "# Create pair plot\n",
        "sns.pairplot(data, hue=\"species\")\n",
        "plt.title(\"Pair Plot\")\n",
        "plt.show()"
      ],
      "metadata": {
        "id": "PXCeIVZYlVjg"
      },
      "execution_count": null,
      "outputs": []
    },
    {
      "cell_type": "markdown",
      "source": [
        "**10. 3D Scatter Plot (with Plotly)**\n",
        "\n",
        "---\n",
        "\n"
      ],
      "metadata": {
        "id": "QlobLkODl2e4"
      }
    },
    {
      "cell_type": "code",
      "source": [
        "import plotly.express as px"
      ],
      "metadata": {
        "id": "U9H246pymBEI"
      },
      "execution_count": null,
      "outputs": []
    },
    {
      "cell_type": "code",
      "source": [
        "# Sample data\n",
        "df = px.data.iris()"
      ],
      "metadata": {
        "id": "igP-Hw5Dl7w_"
      },
      "execution_count": null,
      "outputs": []
    },
    {
      "cell_type": "code",
      "source": [
        "# Create 3D scatter plot\n",
        "fig = px.scatter_3d(df, x='sepal_length', y='sepal_width', z='petal_length', color='species')\n",
        "fig.update_layout(title=\"3D Scatter Plot\")\n",
        "fig.show()"
      ],
      "metadata": {
        "id": "_VP_xXixmFk3"
      },
      "execution_count": null,
      "outputs": []
    },
    {
      "cell_type": "markdown",
      "source": [
        "**11. Time Series Plot**\n",
        "\n",
        "---\n",
        "\n"
      ],
      "metadata": {
        "id": "sR7NeM1ombB5"
      }
    },
    {
      "cell_type": "code",
      "source": [
        "import matplotlib.pyplot as plt\n",
        "import pandas as pd"
      ],
      "metadata": {
        "id": "97UkLWgSmc3A"
      },
      "execution_count": null,
      "outputs": []
    },
    {
      "cell_type": "code",
      "source": [
        "# Sample data\n",
        "dates = pd.date_range('20230101', periods=10)\n",
        "values = [5, 10, 8, 12, 15, 13, 18, 20, 22, 25]"
      ],
      "metadata": {
        "id": "OJBhCrySmhzd"
      },
      "execution_count": null,
      "outputs": []
    },
    {
      "cell_type": "code",
      "source": [
        "# Create time series plot\n",
        "plt.plot(dates, values)\n",
        "plt.title(\"Time Series Plot\")\n",
        "plt.xlabel(\"Date\")\n",
        "plt.ylabel(\"Values\")\n",
        "plt.show()"
      ],
      "metadata": {
        "id": "t8eFe7GumjWY"
      },
      "execution_count": null,
      "outputs": []
    },
    {
      "cell_type": "markdown",
      "source": [
        "**12. Area Chart**\n",
        "\n",
        "---\n",
        "\n"
      ],
      "metadata": {
        "id": "lOeHhiTInMfR"
      }
    },
    {
      "cell_type": "code",
      "source": [
        "# Sample data\n",
        "x = [1, 2, 3, 4, 5]\n",
        "y1 = [10, 20, 25, 30, 35]\n",
        "y2 = [5, 15, 20, 25, 30]"
      ],
      "metadata": {
        "id": "gUfx7skVnPbg"
      },
      "execution_count": null,
      "outputs": []
    },
    {
      "cell_type": "code",
      "source": [
        "# Create area chart\n",
        "plt.fill_between(x, y1, color=\"skyblue\", alpha=0.4)\n",
        "plt.fill_between(x, y2, color=\"orange\", alpha=0.6)\n",
        "plt.title(\"Area Chart\")\n",
        "plt.xlabel(\"X-axis\")\n",
        "plt.ylabel(\"Y-axis\")\n",
        "plt.show()\n"
      ],
      "metadata": {
        "id": "Jd57_bx7nUF4"
      },
      "execution_count": null,
      "outputs": []
    },
    {
      "cell_type": "markdown",
      "source": [
        "**13. Donut Chart**\n",
        "\n",
        "---\n",
        "\n"
      ],
      "metadata": {
        "id": "6iH3VLWVnjxN"
      }
    },
    {
      "cell_type": "code",
      "source": [
        "# Sample data\n",
        "labels = ['A', 'B', 'C', 'D']\n",
        "sizes = [15, 30, 45, 10]\n"
      ],
      "metadata": {
        "id": "YXQUtfjdnorR"
      },
      "execution_count": null,
      "outputs": []
    },
    {
      "cell_type": "code",
      "source": [
        "# Create donut chart\n",
        "plt.pie(sizes, labels=labels, autopct='%1.1f%%', startangle=90, pctdistance=0.85)\n",
        "center_circle = plt.Circle((0, 0), 0.70, fc='white')\n",
        "fig = plt.gcf()\n",
        "fig.gca().add_artist(center_circle)\n",
        "plt.title(\"Donut Chart\")\n",
        "plt.show()\n"
      ],
      "metadata": {
        "id": "cCCaZ4TFnrEB"
      },
      "execution_count": null,
      "outputs": []
    },
    {
      "cell_type": "markdown",
      "source": [
        "**14. Radar Chart**\n",
        "\n",
        "---\n",
        "\n"
      ],
      "metadata": {
        "id": "gFfMBN7qn1Zx"
      }
    },
    {
      "cell_type": "code",
      "source": [
        "# Sample data\n",
        "labels = np.array(['A', 'B', 'C', 'D', 'E'])\n",
        "values = np.array([4, 3, 2, 5, 4])\n"
      ],
      "metadata": {
        "id": "E3xtrNBtn3Mo"
      },
      "execution_count": null,
      "outputs": []
    },
    {
      "cell_type": "code",
      "source": [
        "# Create radar chart\n",
        "angles = np.linspace(0, 2 * np.pi, len(labels), endpoint=False).tolist()\n",
        "values = np.concatenate((values, [values[0]]))\n",
        "angles += angles[:1]\n",
        "fig, ax = plt.subplots(figsize=(6, 6), subplot_kw=dict(polar=True))\n",
        "ax.fill(angles, values, color='blue', alpha=0.25)\n",
        "ax.plot(angles, values, color='blue', linewidth=2)\n",
        "ax.set_yticklabels([])\n",
        "ax.set_xticks(angles[:-1])\n",
        "ax.set_xticklabels(labels)\n",
        "plt.title(\"Radar Chart\")\n",
        "plt.show()\n"
      ],
      "metadata": {
        "id": "3MzNCBCcn73I"
      },
      "execution_count": null,
      "outputs": []
    },
    {
      "cell_type": "markdown",
      "source": [
        "**15. Bubble Chart**\n",
        "\n",
        "---\n",
        "\n"
      ],
      "metadata": {
        "id": "7z5sIpJ4oMD_"
      }
    },
    {
      "cell_type": "code",
      "source": [
        "# Sample data\n",
        "x = [10, 20, 30, 40, 50]\n",
        "y = [15, 25, 35, 40, 45]\n",
        "sizes = [100, 200, 300, 400, 500]\n"
      ],
      "metadata": {
        "id": "zG6pjLmFoN9g"
      },
      "execution_count": null,
      "outputs": []
    },
    {
      "cell_type": "code",
      "source": [
        "# Create bubble chart\n",
        "plt.scatter(x, y, s=sizes, alpha=0.5)\n",
        "plt.title(\"Bubble Chart\")\n",
        "plt.xlabel(\"X-axis\")\n",
        "plt.ylabel(\"Y-axis\")\n",
        "plt.show()\n"
      ],
      "metadata": {
        "id": "HH3g1i8RoSPZ"
      },
      "execution_count": null,
      "outputs": []
    }
  ]
}